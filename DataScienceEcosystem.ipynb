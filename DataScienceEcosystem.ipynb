{
  "metadata": {
    "kernelspec": {
      "name": "python",
      "display_name": "Python (Pyodide)",
      "language": "python"
    },
    "language_info": {
      "codemirror_mode": {
        "name": "python",
        "version": 3
      },
      "file_extension": ".py",
      "mimetype": "text/x-python",
      "name": "python",
      "nbconvert_exporter": "python",
      "pygments_lexer": "ipython3",
      "version": "3.8"
    }
  },
  "nbformat_minor": 4,
  "nbformat": 4,
  "cells": [
    {
      "cell_type": "markdown",
      "source": "<h1>Data Science Tools and Ecosystem</h1>",
      "metadata": {}
    },
    {
      "cell_type": "markdown",
      "source": "In this notebook created for my IBM course assignment, Data Science Tools and Ecosystem are summarized.",
      "metadata": {},
      "attachments": {}
    },
    {
      "cell_type": "markdown",
      "source": "\r\nThis notebook covers various aspects of data science and related tools. Let's summarize the key objectives:\r\n\r\n**Objectives:**\r\n\r\n- Explore and list some popular languages for Data Science.\r\n- Introduce commonly used libraries in Data Science.\r\n- Provide insights into three development environment open source tools used in data science.\r\n- Demonstrate simple arithmetic and conversion operations in Python.\r\n- Showcase the use of Markdown cells for documentation and presentation in Jupyter Notebooks.\r\n",
      "metadata": {
        "jp-MarkdownHeadingCollapsed": true
      }
    },
    {
      "cell_type": "markdown",
      "source": "## Author\n\nRonak Pipaliya\n",
      "metadata": {}
    },
    {
      "cell_type": "markdown",
      "source": "# Overview:\r\nSome of the popular languages that Data Scientists use are:\r\n\r\n1. **Python**: Python is widely used in the data science community for its simplicity, versatility, and a rich ecosystem of libraries like NumPy, Pandas, Matplotlib, and scikit-learn.\r\n\r\n2. **R**: R is a statistical programming language known for its excellent data analysis and visualization capabilities. It is commonly used for statistical modeling and exploratory data analysis.\r\n\r\n3. **SQL (Structured Query Language)**: While not a programming language in the traditional sense, SQL is essential for working with databases. Data scientists often use SQL to query and manipulate data stored in relational databases.\r\n\r\n4. **Julia**: Julia is gaining popularity for its high-performance computing capabilities, making it suitable for data-intensive and computational tasks in data science.\r\n",
      "metadata": {}
    },
    {
      "cell_type": "markdown",
      "source": "# Overview:\r\nSome of the commonly used libraries used by Data Scientists include:\r\n\r\n1. **NumPy**: NumPy is a powerful library for numerical computing in Python. It provides support for large, multi-dimensional arrays and matrices, along with mathematical functions to operate on these arrays.\r\n\r\n2. **Pandas**: Pandas is a data manipulation and analysis library for Python. It offers data structures like DataFrames, which are useful for cleaning, transforming, and analyzing structured data.\r\n\r\n3. **Matplotlib**: Matplotlib is a 2D plotting library for Python. It allows Data Scientists to create a wide variety of static, animated, and interactive plots and visualizations.\r\n\r\n4. **scikit-learn**: scikit-learn is a machine learning library in Python. It provides simple and efficient tools for data mining and data analysis and is widely used for tasks such as classification, regression, clustering, and more.\r\n\r\n5. **TensorFlow**: TensorFlow is an open-source machine learning framework developed by Google. It is widely used for deep learning applications and provides a comprehensive set of tools for building and deploying machine learning models.\r\n",
      "metadata": {}
    },
    {
      "cell_type": "markdown",
      "source": "# Data Science Tools\r\n\r\n| Development Environment Tools |\r\n| ----------------------------- |\r\n| Jupyter Notebook              |\r\n| RStudio                       |\r\n| VS Code with Python Extension |\r\n",
      "metadata": {}
    },
    {
      "cell_type": "markdown",
      "source": "### Examples of Evaluating Arithmetic Expressions in Python.\r\n\r\n",
      "metadata": {}
    },
    {
      "cell_type": "code",
      "source": "# This is a simple arithmetic expression to multiply then add integers.\nresult = (3 * 4) + 5\nresult\n",
      "metadata": {
        "trusted": true
      },
      "outputs": [
        {
          "execution_count": 1,
          "output_type": "execute_result",
          "data": {
            "text/plain": "17"
          },
          "metadata": {}
        }
      ],
      "execution_count": 1
    },
    {
      "cell_type": "code",
      "source": "# This will convert 200 minutes to hours by dividing by 60.\nminutes = 200\nhours = minutes / 60\nhours\n",
      "metadata": {
        "trusted": true
      },
      "outputs": [
        {
          "execution_count": 2,
          "output_type": "execute_result",
          "data": {
            "text/plain": "3.3333333333333335"
          },
          "metadata": {}
        }
      ],
      "execution_count": 2
    },
    {
      "cell_type": "code",
      "source": "",
      "metadata": {
        "trusted": true
      },
      "outputs": [],
      "execution_count": null
    }
  ]
}